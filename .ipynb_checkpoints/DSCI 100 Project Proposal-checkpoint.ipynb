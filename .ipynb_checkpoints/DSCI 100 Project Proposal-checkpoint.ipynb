DSCI 100 Project Proposal 

Introduction 

For this project, we will be making use of Assocation of Tennis Profesionals (ATP) results data to predict the outcomes of a given match based on player and match characteristics. 
We aim to determine what match characteristics and which player characteristics best predict the outcome of a tennis match. 
Examples of player characteristics include age, handedness and match rank points (
Examples of match characteristics include the types of 'plays' used to win/lose points in a given match (i.e. 
