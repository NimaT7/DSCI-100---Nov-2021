DSCI 100 Project Proposal 

Introduction 

For this project, we will be making use of Assocation of Tennis Profesionals (ATP) results data to predict the outcomes of a tennis match. 
The dataset we are using has been compiled from Jeff Slackman's Github page (https://github.com/JeffSackmann/tennis_atp). The dataset contains information regarding the players
the match, and the tournament the match was played in. We aim to determine which match and player characteristics best predict the outcome of a tennis match.
Examples of player characteristics include age, handedness and ATP standings points
Examples of match characteristics include the types of 'plays' used to win/lose points in a given match (i.e. points won from 'aces')
