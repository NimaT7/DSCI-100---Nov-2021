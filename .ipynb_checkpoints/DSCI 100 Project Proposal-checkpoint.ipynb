DSCI 100 Project Proposal 

Introduction 

For this project, we will be making use of Assocation of Tennis Profesionals (ATP) game results data to 
